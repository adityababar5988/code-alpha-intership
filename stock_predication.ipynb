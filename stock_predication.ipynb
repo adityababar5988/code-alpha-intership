{
  "nbformat": 4,
  "nbformat_minor": 0,
  "metadata": {
    "colab": {
      "provenance": [],
      "mount_file_id": "1luLMtIqHeSQx1nhkrmHDghpqlfjPG6cM",
      "authorship_tag": "ABX9TyPp+9ZrLY8xQLdz7oqTkVWI",
      "include_colab_link": true
    },
    "kernelspec": {
      "name": "python3",
      "display_name": "Python 3"
    },
    "language_info": {
      "name": "python"
    }
  },
  "cells": [
    {
      "cell_type": "markdown",
      "metadata": {
        "id": "view-in-github",
        "colab_type": "text"
      },
      "source": [
        "<a href=\"https://colab.research.google.com/github/adityababar5988/food-runner-android-application-in-kotlin-language/blob/main/stock_predication.ipynb\" target=\"_parent\"><img src=\"https://colab.research.google.com/assets/colab-badge.svg\" alt=\"Open In Colab\"/></a>"
      ]
    },
    {
      "cell_type": "code",
      "execution_count": 1,
      "metadata": {
        "id": "URu0hJRz7O7Y"
      },
      "outputs": [],
      "source": [
        "import numpy as np\n",
        "import pandas as pd\n",
        "from sklearn.preprocessing import MinMaxScaler\n",
        "import matplotlib.pyplot as plt"
      ]
    },
    {
      "cell_type": "code",
      "source": [
        "import torch\n",
        "import torch.nn as nn"
      ],
      "metadata": {
        "id": "K779yXFd70RR"
      },
      "execution_count": 2,
      "outputs": []
    },
    {
      "cell_type": "code",
      "source": [
        "df= pd.read_csv(\"/content/drive/MyDrive/interhip/netflix.csv\")\n",
        "closed_prices = df[\"Close\"]\n"
      ],
      "metadata": {
        "id": "4-neJzVZ79BU"
      },
      "execution_count": 3,
      "outputs": []
    },
    {
      "cell_type": "code",
      "source": [
        "seq_len = 15"
      ],
      "metadata": {
        "id": "ZuqhSE3n8Kb6"
      },
      "execution_count": 4,
      "outputs": []
    },
    {
      "cell_type": "code",
      "source": [
        "mm = MinMaxScaler()\n",
        "scaled_price = mm.fit_transform(np.array(closed_prices)[... , None]).squeeze()"
      ],
      "metadata": {
        "id": "5LUbRyQu8OR2"
      },
      "execution_count": 5,
      "outputs": []
    },
    {
      "cell_type": "code",
      "source": [
        "X=[]\n",
        "Y=[]"
      ],
      "metadata": {
        "id": "ISf01IzR8Twr"
      },
      "execution_count": 6,
      "outputs": []
    },
    {
      "cell_type": "code",
      "source": [
        "for i in range(len(scaled_price) - seq_len):\n",
        "    X.append(scaled_price[i : i+ seq_len])\n",
        "    Y.append(scaled_price[i+seq_len])"
      ],
      "metadata": {
        "id": "CywlCR0J8bD4"
      },
      "execution_count": 7,
      "outputs": []
    },
    {
      "cell_type": "code",
      "source": [
        "X = np.array(X)[... , None]\n",
        "Y = np.array(Y)[... ,None]\n"
      ],
      "metadata": {
        "id": "xb4sJXt-8dxy"
      },
      "execution_count": 8,
      "outputs": []
    },
    {
      "cell_type": "code",
      "source": [
        "train_x = torch.from_numpy(X[:int(0.8*X.shape[0])]).float()\n",
        "train_y = torch.from_numpy(Y[:int(0.8*Y.shape[0])]).float()\n",
        "test_x = torch.from_numpy(X[:int(0.8*X.shape[0])]).float()\n",
        "test_y = torch.from_numpy(Y[:int(0.8*Y.shape[0])]).float()"
      ],
      "metadata": {
        "id": "_qDVTzpB8jAv"
      },
      "execution_count": 9,
      "outputs": []
    },
    {
      "cell_type": "code",
      "source": [
        "class Model(nn.Module):\n",
        "    def __init__(self,input_size,hidden_size):\n",
        "        super().__init__()\n",
        "        self.lstm = nn.LSTM(input_size , hidden_size,batch_first=True)\n",
        "        self.fc=nn.Linear(hidden_size, 1)\n",
        "    def forward(self , x):\n",
        "        output,(hidden,cell)=self.lstm(x)\n",
        "        return self.fc(hidden[-1,:])\n",
        "\n",
        "\n"
      ],
      "metadata": {
        "id": "_0yV9TM08lvF"
      },
      "execution_count": 10,
      "outputs": []
    },
    {
      "cell_type": "code",
      "source": [
        "model = Model(1,64)"
      ],
      "metadata": {
        "id": "yp1WzuaW8uhC"
      },
      "execution_count": 11,
      "outputs": []
    },
    {
      "cell_type": "code",
      "source": [
        "optimizer=torch.optim.Adam(model.parameters(), lr=0.001)"
      ],
      "metadata": {
        "id": "PG3FlEg88xoD"
      },
      "execution_count": 12,
      "outputs": []
    },
    {
      "cell_type": "code",
      "source": [
        "loss_fn = nn.MSELoss()"
      ],
      "metadata": {
        "id": "adnAHrfl80wU"
      },
      "execution_count": 13,
      "outputs": []
    },
    {
      "cell_type": "code",
      "source": [
        "num_epochs=100"
      ],
      "metadata": {
        "id": "NVBmDdTc84OB"
      },
      "execution_count": 14,
      "outputs": []
    },
    {
      "cell_type": "code",
      "source": [
        "for epoch in range(num_epochs):\n",
        "    output = model(train_x)\n",
        "    loss=loss_fn(output,train_y)\n",
        "\n",
        "    optimizer.zero_grad()\n",
        "    loss.backward()\n",
        "    optimizer.step()\n",
        "\n",
        "    if epoch % 10==0 and epoch !=0:\n",
        "        print(epoch , \"epoch loss\", loss.detach().numpy())"
      ],
      "metadata": {
        "colab": {
          "base_uri": "https://localhost:8080/"
        },
        "id": "R6fCq7ia8-IX",
        "outputId": "0e6fa6f6-ea29-44b3-a09c-c3aab718aacf"
      },
      "execution_count": 15,
      "outputs": [
        {
          "output_type": "stream",
          "name": "stdout",
          "text": [
            "10 epoch loss 0.005347247\n",
            "20 epoch loss 0.0057082446\n",
            "30 epoch loss 0.005033276\n",
            "40 epoch loss 0.004634696\n",
            "50 epoch loss 0.0043473467\n",
            "60 epoch loss 0.003916596\n",
            "70 epoch loss 0.003306234\n",
            "80 epoch loss 0.0021049997\n",
            "90 epoch loss 0.00015664901\n"
          ]
        }
      ]
    },
    {
      "cell_type": "code",
      "source": [
        "model.eval()\n",
        "with torch.no_grad():\n",
        "    output=model(test_x)"
      ],
      "metadata": {
        "id": "fbyb4jEN8gBH"
      },
      "execution_count": 16,
      "outputs": []
    },
    {
      "cell_type": "code",
      "source": [
        "pred=mm.inverse_transform(output.numpy())\n",
        "real=mm.inverse_transform(test_y.numpy())"
      ],
      "metadata": {
        "id": "dA1-pz0g9Hmq"
      },
      "execution_count": 17,
      "outputs": []
    },
    {
      "cell_type": "code",
      "source": [
        "plt.plot(pred.squeeze(),color=\"red\",label=\"predicted\")\n",
        "plt.plot(real.squeeze(),color=\"green\",label=\"real\")\n",
        "plt.show()"
      ],
      "metadata": {
        "colab": {
          "base_uri": "https://localhost:8080/",
          "height": 430
        },
        "id": "ceCwX_v49Ntv",
        "outputId": "9e4df485-aa25-4eeb-b92d-7f20b6524657"
      },
      "execution_count": 18,
      "outputs": [
        {
          "output_type": "display_data",
          "data": {
            "text/plain": [
              "<Figure size 640x480 with 1 Axes>"
            ],
            "image/png": "[encoded data removed]"
          },
          "metadata": {}
        }
      ]
    }
  ]
}